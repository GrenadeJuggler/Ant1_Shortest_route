{
  "nbformat": 4,
  "nbformat_minor": 0,
  "metadata": {
    "colab": {
      "name": "ПроектМуравей3курс.ipynb",
      "provenance": [],
      "collapsed_sections": []
    },
    "kernelspec": {
      "display_name": "Python 3",
      "name": "python3"
    }
  },
  "cells": [
    {
      "cell_type": "code",
      "metadata": {
        "id": "d_-xWL75PGDF"
      },
      "source": [
        "import random\n",
        "import numpy as np\n",
        "from PIL import Image, ImageDraw,ImageFont\n",
        "import os\n",
        "import math\n",
        "from shutil import rmtree\n",
        "import time"
      ],
      "execution_count": null,
      "outputs": []
    },
    {
      "cell_type": "code",
      "metadata": {
        "id": "wfMsu_csmTqQ"
      },
      "source": [
        "def do_point_map(): #Создания случайных точек на плоскости\n",
        "  pt=0\n",
        "  if(PointFlag==1):\n",
        "    pt=2\n",
        "  for now in range(pt,nCity):\n",
        "    thisnear=[]\n",
        "    point_x.append(random.randint(1, window_x-2))\n",
        "    point_y.append(random.randint(1, window_y-2))\n",
        "    for other in range(now):\n",
        "      dist=((point_x[other]-point_x[now])**2 + (point_y[other]-point_y[now])**2)**0.5\n",
        "      if (dist<near_range):\n",
        "        thisnear.append(other)\n",
        "        point_near[other].append(now)\n",
        "        lenTrail[now][other]=dist\n",
        "        lenTrail[other][now]=dist\n",
        "    point_near.append(thisnear)"
      ],
      "execution_count": null,
      "outputs": []
    },
    {
      "cell_type": "code",
      "metadata": {
        "id": "kg2Qx7Bfwzcv"
      },
      "source": [
        "def FirstDraw(): # Рисование изначального построенного графа\n",
        "  image = Image.new(\"RGB\", (window_x*ScrCoef,window_y*ScrCoef), (255,255,255))\n",
        "  draw = ImageDraw.Draw(image)\n",
        "  for now in range(nCity):\n",
        "    for other in range(len(point_near[now])):\n",
        "      if (point_near[now][other]<now):\n",
        "        draw.line([(ScrCoef*point_x[point_near[now][other]],ScrCoef*point_y[point_near[now][other]]),(ScrCoef*point_x[now],ScrCoef*point_y[now])], fill =\"black\", width = 0) \n",
        "  for now in range(nCity):\n",
        "    if(now==start or now==end):\n",
        "      draw.ellipse([(ScrCoef*point_x[now]-5,ScrCoef*point_y[now]-5),(ScrCoef*point_x[now]+5,ScrCoef*point_y[now]+5)], fill = 'blue', outline ='blue')\n",
        "      draw.text((ScrCoef*point_x[now]+5,ScrCoef*point_y[now]+5), str(now),fill='blue')\n",
        "    else:\n",
        "      draw.ellipse([(ScrCoef*point_x[now]-2,ScrCoef*point_y[now]-2),(ScrCoef*point_x[now]+2,ScrCoef*point_y[now]+2)], fill = 'red', outline ='red')\n",
        "      draw.text((ScrCoef*point_x[now]+2,ScrCoef*point_y[now]+2), str(now),fill='red')\n",
        "  del draw\n",
        "  image.save(\"Map.png\", \"PNG\")"
      ],
      "execution_count": null,
      "outputs": []
    },
    {
      "cell_type": "code",
      "metadata": {
        "id": "JbEwC0bzDZQU"
      },
      "source": [
        "def ProgressDraw(time,bestLen,Trail,FoldName): #Рисование карты - промежуточно найденного лучшего пути\n",
        "  image = Image.new(\"RGB\", (ScrCoef*window_x,ScrCoef*window_y), (255,255,255))\n",
        "  draw = ImageDraw.Draw(image)\n",
        "  for i in range(len(Trail)-1):\n",
        "     draw.line([(ScrCoef*point_x[Trail[i]],ScrCoef*point_y[Trail[i]]),(ScrCoef*point_x[Trail[i+1]],ScrCoef*point_y[Trail[i+1]])], fill =\"red\", width = 5)\n",
        "  for now in range(nCity):\n",
        "    for other in range(len(point_near[now])):\n",
        "      otherCit=point_near[now][other]\n",
        "      if (otherCit<now):\n",
        "        draw.line([(ScrCoef*point_x[otherCit],ScrCoef*point_y[otherCit]),(ScrCoef*point_x[now],ScrCoef*point_y[now])], fill =\"black\", width = 0) \n",
        "        draw.text((ScrCoef*(point_x[otherCit]+point_x[now])/2-2,ScrCoef*(point_y[otherCit]+point_y[now])/2-2), str('%.3f' % pherTrail[now][otherCit]),fill='blue')\n",
        "  for now in range(nCity):\n",
        "    draw.ellipse([(ScrCoef*point_x[now]-2,ScrCoef*point_y[now]-2),(ScrCoef*point_x[now]+2,ScrCoef*point_y[now]+2)], fill = 'black', outline ='black')\n",
        "  draw.ellipse([(ScrCoef*point_x[start]-4,ScrCoef*point_y[start]-4),(ScrCoef*point_x[start]+4,ScrCoef*point_y[start]+4)], fill = 'blue', outline ='blue')\n",
        "  draw.ellipse([(ScrCoef*point_x[end]-4,ScrCoef*point_y[end]-4),(ScrCoef*point_x[end]+4,ScrCoef*point_y[end]+4)], fill = 'red', outline ='red')\n",
        "  del draw\n",
        "  name=FoldName+\"/\"+\"time\"+str(time)+\"best\"+str(bestLen)+\".png\"\n",
        "  image.save(name, \"PNG\")"
      ],
      "execution_count": null,
      "outputs": []
    },
    {
      "cell_type": "code",
      "metadata": {
        "id": "HatOUf3Mnbep"
      },
      "source": [
        "def DeikstraDraw(Trail,FileName): #Рисование карты - промежуточно найденного лучшего пути\n",
        "  image = Image.new(\"RGB\", (ScrCoef*window_x,ScrCoef*window_y), (255,255,255))\n",
        "  draw = ImageDraw.Draw(image)\n",
        "  for i in range(len(Trail)-1):\n",
        "     draw.line([(ScrCoef*point_x[Trail[i]],ScrCoef*point_y[Trail[i]]),(ScrCoef*point_x[Trail[i+1]],ScrCoef*point_y[Trail[i+1]])], fill =\"red\", width = 5)\n",
        "  for now in range(nCity):\n",
        "    for other in range(len(point_near[now])):\n",
        "      otherCit=point_near[now][other]\n",
        "      if (otherCit<now):\n",
        "        draw.line([(ScrCoef*point_x[otherCit],ScrCoef*point_y[otherCit]),(ScrCoef*point_x[now],ScrCoef*point_y[now])], fill =\"black\", width = 0) \n",
        "  for now in range(nCity):\n",
        "    draw.ellipse([(ScrCoef*point_x[now]-2,ScrCoef*point_y[now]-2),(ScrCoef*point_x[now]+2,ScrCoef*point_y[now]+2)], fill = 'black', outline ='black')\n",
        "  draw.ellipse([(ScrCoef*point_x[start]-4,ScrCoef*point_y[start]-4),(ScrCoef*point_x[start]+4,ScrCoef*point_y[start]+4)], fill = 'blue', outline ='blue')\n",
        "  draw.ellipse([(ScrCoef*point_x[end]-4,ScrCoef*point_y[end]-4),(ScrCoef*point_x[end]+4,ScrCoef*point_y[end]+4)], fill = 'red', outline ='red')\n",
        "  del draw\n",
        "  name=FileName+\".png\"\n",
        "  image.save(name, \"PNG\")"
      ],
      "execution_count": null,
      "outputs": []
    },
    {
      "cell_type": "code",
      "metadata": {
        "id": "n9On3DvLPYWX"
      },
      "source": [
        "def probability(i,j,to): #Расчёт весов определённого отрезка пути для расчёта вероятности прохода муравья по нему.\n",
        "  p=(pherTrail[i][j]**Alpha)*((1/lenTrail[i][j])**Beta)\n",
        "  return p"
      ],
      "execution_count": null,
      "outputs": []
    },
    {
      "cell_type": "code",
      "metadata": {
        "id": "3_WhpLJhVDiF"
      },
      "source": [
        "def UpdPher(): # Обновление феромонов\n",
        "  for i in range(nCity):\n",
        "    for j in range (len(point_near[i])):\n",
        "      nj=point_near[i][j]\n",
        "      if(lenTrail[i][nj]!=0):\n",
        "        pherTrail[i][nj]=pherTrail[i][nj]*(1-Rho)+deltaPher[i][nj]\n",
        "        if(pherTrail[i][nj]<pherMin):\n",
        "          pherTrail[i][nj]=pherMin\n",
        "        if(pherTrail[i][nj]>pherMax):\n",
        "          pherTrail[i][nj]=pherMax\n",
        "        pherTrail[nj][i]=pherTrail[i][nj]\n",
        "        deltaPher[i][nj]=0\n",
        "        deltaPher[nj][i]=0"
      ],
      "execution_count": null,
      "outputs": []
    },
    {
      "cell_type": "code",
      "metadata": {
        "id": "d1Vtfu6orqOQ"
      },
      "source": [
        "def Move(now,tabu,to): #Функция выбора следующей точки для перехода\n",
        "  WhereList=[]\n",
        "  ProbList=[]\n",
        "  ErrFlag=1\n",
        "  for cit in range(len(point_near[now])):\n",
        "    near=point_near[now][cit]\n",
        "    if((lenTrail[now][near]==0) or (tabu.count(near)!=0)):\n",
        "      continue\n",
        "    else:\n",
        "      ErrFlag=0\n",
        "      WhereList.append(near)\n",
        "      ProbList.append(probability(now,near,to))\n",
        "  if (ErrFlag==1):\n",
        "    return -1 \n",
        "  return random.choices(WhereList, weights=ProbList)[0]"
      ],
      "execution_count": null,
      "outputs": []
    },
    {
      "cell_type": "code",
      "metadata": {
        "id": "bfs7XDGvJifz"
      },
      "source": [
        "def March(Fr,To): #Функция перехода муравья из одной точки в другую\n",
        "  now=Fr\n",
        "  tabu=[]\n",
        "  tabu.append(now)\n",
        "  while 1:\n",
        "    next=Move(now,tabu,To)\n",
        "    if (next==-1):\n",
        "      tabu.clear()\n",
        "      now=Fr\n",
        "      tabu.append(now)\n",
        "    else:\n",
        "      now=next\n",
        "      tabu.append(now)\n",
        "      if (now==To):\n",
        "        return tabu"
      ],
      "execution_count": null,
      "outputs": []
    },
    {
      "cell_type": "code",
      "metadata": {
        "id": "5dsjtm8pRyi_"
      },
      "source": [
        "def Length(Trail): #Расчёт длины пути на графе\n",
        "  l=0\n",
        "  for i in range(len(Trail)-1):\n",
        "    l+=lenTrail[Trail[i]][Trail[i+1]]\n",
        "  return l"
      ],
      "execution_count": null,
      "outputs": []
    },
    {
      "cell_type": "code",
      "metadata": {
        "id": "xsyW2PmwsoOi"
      },
      "source": [
        "def PutPher(Trail,l): #Распределение феромонов после движения муравьёв\n",
        "  for sch in range(len(Trail)-1):\n",
        "    deltaPher[Trail[sch]][Trail[sch+1]]+=Q/l\n",
        "    deltaPher[Trail[sch+1]][Trail[sch]]=deltaPher[Trail[sch]][Trail[sch+1]]"
      ],
      "execution_count": null,
      "outputs": []
    },
    {
      "cell_type": "code",
      "metadata": {
        "id": "wkUPUASF5YsC"
      },
      "source": [
        "nAnt=10 #Количество простых муравьёв\n",
        "Tend=1000 #Время симуляции\n",
        "Alpha=1 #Коэффициент альфа (порядка значимости феромона)\n",
        "Beta=1 #Коэффициент бэта (порядка значимости длины пути)\n",
        "Rho=0.2 #Коэффициент испарения феромона\n",
        "Q=400 #Коэффициент увеличения феромона\n",
        "\n",
        "pherMin=1 #Минимальное количество феромона на рёбрах графа\n",
        "pherMax=10 #Максимальное количество феромона на рёбрах графа"
      ],
      "execution_count": null,
      "outputs": []
    },
    {
      "cell_type": "code",
      "metadata": {
        "id": "xk0uFx6CPQCO"
      },
      "source": [
        "point_x=[]\n",
        "point_y=[]\n",
        "point_near=[]\n",
        "\n",
        "window_x=400 #ширина поля\n",
        "window_y=400 #высота поля\n",
        "ScrCoef=4 #Масштабирование при выводе карт\n",
        "\n",
        "PointFlag=1 #Поставить 1, чтоб точки старта и конца были по углам иначе 0. Можно установить также позже изменив start и end\n",
        "MapMode=0 #Поставить 1, чтоб составить карту из точек в виде сетки, 2 если разлиновать готовую карту. Иначе случайная расстановка точек.\n",
        "\n",
        "start=0 #Точка муравейника\n",
        "end=1 #Точка цели\n",
        "\n",
        "nCity=100 #Количество вершин\n",
        "\n",
        "if (PointFlag==1):\n",
        "  point_x.append(20)\n",
        "  point_y.append(20)\n",
        "  point_x.append(window_x-20)\n",
        "  point_y.append(window_y-20)\n",
        "  nCity+=2\n",
        "  thisnear1=[]\n",
        "  point_near.append(thisnear1)\n",
        "  thisnear2=[]\n",
        "  point_near.append(thisnear2)\n",
        "  start=0 #Точка муравейника\n",
        "  end=1 #Точка цели\n",
        "\n",
        "if (MapMode==1):\n",
        "  near_range=50\n",
        "  nCity,lenTrail=do_point_map_cage()\n",
        "  FirstDraw()\n",
        "elif (MapMode==2):\n",
        "  near_range=30\n",
        "  adress=\"/content/drive/My Drive/Безымянный.png\"\n",
        "  block_display=0 #1 чтобы включить отображение препятствий на карте. Иначе выключить\n",
        "  window_x,window_y,nCity,lenTrail=do_point_map_cage_im(adress)\n",
        "  start=0 #Точка муравейника\n",
        "  end=542 #Точка цели\n",
        "  FirstDrawIm(adress,block_display)\n",
        "else:\n",
        "  near_range=2*(window_x*window_y/nCity)**0.5 #Радиус, внутри которого точки считаются соседствующими\n",
        "  lenTrail = [[0 for j in range(nCity)] for i in range(nCity)]\n",
        "  do_point_map()\n",
        "  FirstDraw()\n",
        "\n",
        "#FirstDraw() #Сохранение рисунка карты\n"
      ],
      "execution_count": null,
      "outputs": []
    },
    {
      "cell_type": "code",
      "metadata": {
        "id": "pKls0zIaJDmc"
      },
      "source": [
        "# Модификации\n",
        "nElite=0 #Количество элитных муравьёв\n",
        "DirModif=0 #Добавление в вероятность выбора множитель направления"
      ],
      "execution_count": null,
      "outputs": []
    },
    {
      "cell_type": "code",
      "metadata": {
        "id": "ibfkzFW7eKvh"
      },
      "source": [
        "# Имена и циклы\n",
        "dir_name=\"Tests\"\n",
        "# Первая переменная цикла (Alpha, Beta, Rho, Q, nElite)\n",
        "Par1Name=\"Alpha\"\n",
        "Rng1max = 0\n",
        "# Вторая переменная цикла\n",
        "Par2Name=\"Beta\"\n",
        "Rng2max = 0\n",
        "# Третья переменная цикла\n",
        "Par3Name=\"Q\"\n",
        "Rng3max = 0\n",
        "\n",
        "MaxCikl=1\n",
        "\n",
        "ShowProcessMaps=1 # Отображение маршрутов на картах: 0 - нет, 1 - да\n",
        "ShowProgressString=1 # Отображение строк с нахождением новых оптимальных путей: 0 - нет, 1 - да"
      ],
      "execution_count": null,
      "outputs": []
    },
    {
      "cell_type": "code",
      "metadata": {
        "id": "JAhZInswPFIf",
        "colab": {
          "base_uri": "https://localhost:8080/"
        },
        "outputId": "00f6ea1e-ce11-4029-c2c3-24764f4a1e9c"
      },
      "source": [
        "#Цикл для исследования ACO с различными параметрами\n",
        "if (os.path.exists(dir_name)):\n",
        "  rmtree(dir_name)\n",
        "if (ShowProcessMaps==1):\n",
        "  os.mkdir(dir_name)\n",
        "\n",
        "BestList=[]\n",
        "TimerList=[]\n",
        "StepList=[]\n",
        "MedianList=[]\n",
        "\n",
        "for Par1 in range(Rng1max+1):\n",
        "  #Alpha=Par1\n",
        "  \n",
        "  BestListPar1=[]\n",
        "  TimerListPar1=[]\n",
        "  StepListPar1=[]\n",
        "  MedianListPar1=[]\n",
        "  \n",
        "  if(ShowProcessMaps==1):\n",
        "    dir_name1=dir_name+\"/\"+Par1Name+\"_\"+str(Par1)\n",
        "    os.mkdir(dir_name1)\n",
        "  for Par2 in range(Rng2max+1):\n",
        "    #Beta=Par2\n",
        "\n",
        "    BestListPar2=[]\n",
        "    TimerListPar2=[]\n",
        "    StepListPar2=[]\n",
        "    MedianListPar2=[]\n",
        "\n",
        "    if(ShowProcessMaps==1):\n",
        "      dir_name2=dir_name1+\"/\"+Par2Name+\"_\"+str(Par2)\n",
        "      os.mkdir(dir_name2)\n",
        "\n",
        "    for Par3 in range(Rng3max+1):\n",
        "      #Q=200+Par3*200\n",
        "\n",
        "      BestListPar3=[]\n",
        "      TimerListPar3=[]\n",
        "      StepListPar3=[]\n",
        "\n",
        "      if(ShowProcessMaps==1):\n",
        "        dir_name3=dir_name2+\"/\"+Par3Name+\"_\"+str(Par3)\n",
        "        os.mkdir(dir_name3)\n",
        "      for Cikl in range(MaxCikl):\n",
        "        BestListCikl=[]\n",
        "        TimerListCikl=[]\n",
        "        StepListCikl=[]\n",
        "        RealStartTime = time.time()\n",
        "\n",
        "        if(ShowProcessMaps==1):\n",
        "          dir_name4=dir_name3+\"/\"+\"Cikl\"+\"_\"+str(Cikl+1)\n",
        "          os.mkdir(dir_name4)\n",
        "        pherTrail = [[pherMin for j in range(nCity)] for i in range(nCity)]\n",
        "        deltaPher = [[0 for j in range(nCity)] for i in range(nCity)]\n",
        "        bestLen=-1\n",
        "        bestTrail=[]\n",
        "        bestTime=0\n",
        "        for step in range(Tend):\n",
        "          for Ant in range(nAnt):\n",
        "            if(step%2==0):\n",
        "              way=March(start,end)\n",
        "            else:\n",
        "              way=March(end,start)\n",
        "            l=Length(way)\n",
        "            if(bestLen==-1 or l<bestLen):\n",
        "              bestLen=l\n",
        "              bestTrail=way\n",
        "              bestTime=step\n",
        "              \n",
        "              RealNowTime = time.time()\n",
        "              BestListCikl.append(bestLen)\n",
        "              TimerListCikl.append(RealNowTime-RealStartTime)\n",
        "              StepListCikl.append(step)\n",
        "              if(ShowProgressString==1):\n",
        "                print(\"На шаге\",step,\" (\",round(RealNowTime-RealStartTime,4),\"сек) найден путь длиной\",bestLen)\n",
        "              if(ShowProcessMaps==1):\n",
        "                ProgressDraw(step,round(bestLen,1),bestTrail,dir_name4)\n",
        "            \n",
        "            PutPher(way,l)\n",
        "          for EliteAnt in range(nElite):\n",
        "            PutPher(bestTrail,bestLen)\n",
        "          UpdPher()\n",
        "        if(ShowProgressString==1):\n",
        "          print(\"len\",bestLen)\n",
        "          print(\"step\",bestTime)\n",
        "          print(\"time\",round(RealNowTime-RealStartTime,4))\n",
        "        print(\"Alpha = \"+str(Alpha))\n",
        "        print(\"Beta = \"+str(Beta))\n",
        "        print(\"Par3 = \"+str(Par3))\n",
        "        print(\"Cikl = \"+str(Cikl))\n",
        "\n",
        "        BestListPar3.append(BestListCikl) #Собираем в список с каждого цикла\n",
        "        TimerListPar3.append(TimerListCikl)\n",
        "        StepListPar3.append(StepListCikl)\n",
        "      \n",
        "      copyBest=BestListPar3.copy()\n",
        "      copyBest.sort()\n",
        "      Median=copyBest[MaxCikl//2]\n",
        "      for k in range (MaxCikl):\n",
        "        if(BestListPar3[k]==Median):\n",
        "          MedianNum=k\n",
        "          break\n",
        "      MedianListPar2.append(MedianNum) #Собираем в список разных параметров 3\n",
        "      BestListPar2.append(BestListPar3) \n",
        "      TimerListPar2.append(TimerListPar3)\n",
        "      StepListPar2.append(StepListPar3)\n",
        "    MedianListPar1.append(MedianListPar2) #Собираем в список разных параметров 2\n",
        "    BestListPar1.append(BestListPar2) \n",
        "    TimerListPar1.append(TimerListPar2)\n",
        "    StepListPar1.append(StepListPar2)\n",
        "  MedianList.append(MedianListPar1) #Собираем в список разных параметров 1\n",
        "  BestList.append(BestListPar1)\n",
        "  TimerList.append(TimerListPar1)\n",
        "  StepList.append(StepListPar1)\n"
      ],
      "execution_count": null,
      "outputs": [
        {
          "output_type": "stream",
          "text": [
            "На шаге 0  ( 0.0062 сек) найден путь длиной 3650.7301908575464\n",
            "На шаге 0  ( 0.1947 сек) найден путь длиной 3213.2926147894887\n",
            "На шаге 0  ( 0.381 сек) найден путь длиной 2241.104581229008\n",
            "На шаге 0  ( 0.5705 сек) найден путь длиной 1621.7460297253024\n",
            "На шаге 0  ( 0.7631 сек) найден путь длиной 1171.5066701675712\n",
            "На шаге 1  ( 0.9779 сек) найден путь длиной 908.7444484815809\n",
            "На шаге 8  ( 1.3436 сек) найден путь длиной 890.2433491935567\n",
            "На шаге 9  ( 1.5432 сек) найден путь длиной 784.8739715769775\n",
            "На шаге 74  ( 3.6346 сек) найден путь длиной 681.3015748871655\n",
            "На шаге 609  ( 18.9641 сек) найден путь длиной 618.9397505301141\n",
            "На шаге 979  ( 29.4995 сек) найден путь длиной 600.0704918417833\n",
            "len 600.0704918417833\n",
            "step 979\n",
            "time 29.4995\n",
            "Alpha = 1\n",
            "Beta = 1\n",
            "Par3 = 0\n",
            "Cikl = 0\n"
          ],
          "name": "stdout"
        }
      ]
    },
    {
      "cell_type": "code",
      "metadata": {
        "id": "rLmqO08Qcdkf"
      },
      "source": [
        "def Deikstra(Now):\n",
        "  for Look in (point_near[Now]):\n",
        "    if(lenTrail[Now][Look]+MinRouteLen[Now]<MinRouteLen[Look]):\n",
        "      MinRouteLen[Look]=lenTrail[Now][Look]+MinRouteLen[Now]\n",
        "      flag=0\n",
        "      for i in (NotBlocked):\n",
        "        if(i==Look):\n",
        "          flag=1\n",
        "          break\n",
        "      if (flag==0):\n",
        "        NotBlocked.append(Look)\n",
        "      MinRoute[Look]=MinRoute[Now].copy()\n",
        "      MinRoute[Look].append(Look)\n",
        "  NotBlocked.remove(Now)"
      ],
      "execution_count": null,
      "outputs": []
    },
    {
      "cell_type": "code",
      "metadata": {
        "colab": {
          "base_uri": "https://localhost:8080/"
        },
        "id": "kNBmmYiXPieA",
        "outputId": "a57d5c7d-d33f-4f7a-ebc8-b6311d91166c"
      },
      "source": [
        "#Алгоритмы поиска пути на взвешенном графе Дейкстра\n",
        "RealStartTime = time.time()\n",
        "\n",
        "NotBlocked=[]\n",
        "NotBlocked.append(start)\n",
        "MinRouteLen=[]\n",
        "for i in range(nCity):\n",
        "  MinRouteLen.append(10000000)\n",
        "MinRoute=[]\n",
        "for j in range(nCity):\n",
        "  OnePoint=[]\n",
        "  MinRoute.append(OnePoint)\n",
        "MinRoute[start].append(start)\n",
        "MinRouteLen[start]=0\n",
        "Deikstra(start)\n",
        "while(1):\n",
        "  if(len(NotBlocked)==0):\n",
        "    break\n",
        "  min=NotBlocked[0]\n",
        "  for k in (NotBlocked):\n",
        "    if(MinRouteLen[min]>MinRouteLen[k]):\n",
        "      min=k\n",
        "  Deikstra(min)\n",
        "\n",
        "RealNowTime = time.time()\n",
        "DeltaTime=RealNowTime-RealStartTime\n",
        "\n",
        "print(\"Time:\"+str(DeltaTime))\n",
        "print(\"Best route:\"+str(MinRoute[end]))\n",
        "print(\"Length of best route:\"+str(MinRouteLen[end]))\n",
        "DeikstraDraw(MinRoute[end],\"Deikstra\")\n",
        "\n",
        "minDei=MinRouteLen[end]"
      ],
      "execution_count": null,
      "outputs": [
        {
          "output_type": "stream",
          "text": [
            "Time:0.002285480499267578\n",
            "Best route:[0, 95, 59, 14, 94, 7, 22, 43, 26, 1]\n",
            "Length of best route:538.8033612520721\n"
          ],
          "name": "stdout"
        }
      ]
    },
    {
      "cell_type": "code",
      "metadata": {
        "id": "OboSCm7CvzsX"
      },
      "source": [
        "import openpyxl\n",
        "\n",
        "# создаем новый excel-файл\n",
        "wb = openpyxl.Workbook()\n",
        "\n",
        "# добавляем новый лист\n",
        "wb.create_sheet(title = 'Первый лист', index = 0)\n",
        "\n",
        "# получаем лист, с которым будем работать\n",
        "sheet = wb['Первый лист']\n",
        "\n",
        "\n",
        "for i in range (len(BestList)):\n",
        "  for j in range (len(BestList[i])):\n",
        "    for k in range (len(BestList[i][j])):\n",
        "      NowColumn=i*len(BestList[i])*len(BestList[i][j])*5+j*len(BestList[i][j])*5+k*5+1\n",
        "      NowCell = sheet.cell(row = 1, column = NowColumn)\n",
        "      NowCell.value = \"Alpha=\"+str(i)\n",
        "      NowCell = sheet.cell(row = 2, column = NowColumn)\n",
        "      NowCell.value = \"Beta=\"+str(j)\n",
        "      NowCell = sheet.cell(row = 4, column = NowColumn)\n",
        "      b1=round(BestList[i][j][k][MedianList[i][j][k]][len(BestList[i][j][k][MedianList[i][j][k]])-1],1)\n",
        "      NowCell.value = \"Best=\"+str(b1)\n",
        "      \n",
        "      NowColumn=i*len(BestList[i])*len(BestList[i][j])*5+j*len(BestList[i][j])*5+k*5+2\n",
        "      NowCell = sheet.cell(row = 1, column = NowColumn)\n",
        "      NowCell.value = \"Best\"\n",
        "      flag=0\n",
        "      if (b1>minDei*1.2):\n",
        "        flag=1\n",
        "        t1=\"NotEnough\"\n",
        "      for Sch1 in range (len(BestList[i][j][k][MedianList[i][j][k]])):\n",
        "        NowCell = sheet.cell(row = Sch1+2, column = NowColumn)\n",
        "        NowCell.value =round(BestList[i][j][k][MedianList[i][j][k]][Sch1],1)\n",
        "        if(flag==0 and BestList[i][j][k][MedianList[i][j][k]][Sch1]<minDei*1.2):\n",
        "          flag=1\n",
        "          t1=str(round(TimerList[i][j][k][MedianList[i][j][k]][Sch1],4))\n",
        "      NowCell = sheet.cell(row = 5, column = NowColumn-1)\n",
        "      NowCell.value = t1+\" сек\"\n",
        "\n",
        "      NowColumn=i*len(BestList[i])*len(BestList[i][j])*5+j*len(BestList[i][j])*5+k*5+3\n",
        "      NowCell = sheet.cell(row = 1, column = NowColumn)\n",
        "      NowCell.value = \"Step\"\n",
        "      for Sch1 in range (len(StepList[i][j][k][MedianList[i][j][k]])):\n",
        "        NowCell = sheet.cell(row = Sch1+2, column = NowColumn)\n",
        "        NowCell.value =round(StepList[i][j][k][MedianList[i][j][k]][Sch1])\n",
        "\n",
        "      NowColumn=i*len(BestList[i])*len(BestList[i][j])*5+j*len(BestList[i][j])*5+k*5+4\n",
        "      NowCell = sheet.cell(row = 1, column = NowColumn)\n",
        "      NowCell.value = \"Time\"\n",
        "      for Sch1 in range (len(TimerList[i][j][k][MedianList[i][j][k]])):\n",
        "        NowCell = sheet.cell(row = Sch1+2, column = NowColumn)\n",
        "        NowCell.value =round(TimerList[i][j][k][MedianList[i][j][k]][Sch1],4)\n",
        "\n",
        "\n",
        "wb.save('Test.xlsx')"
      ],
      "execution_count": null,
      "outputs": []
    },
    {
      "cell_type": "code",
      "metadata": {
        "id": "H7p2UffYvziC"
      },
      "source": [
        ""
      ],
      "execution_count": null,
      "outputs": []
    }
  ]
}